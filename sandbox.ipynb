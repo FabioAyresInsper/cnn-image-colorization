{
 "cells": [
  {
   "cell_type": "code",
   "execution_count": 10,
   "metadata": {},
   "outputs": [
    {
     "name": "stdout",
     "output_type": "stream",
     "text": [
      "Number of parameters: 67458\n",
      "[1,     1] loss: 0.314\n",
      "[2,     1] loss: 0.312\n",
      "[3,     1] loss: 0.311\n",
      "[4,     1] loss: 0.310\n",
      "[5,     1] loss: 0.309\n",
      "[6,     1] loss: 0.308\n",
      "[7,     1] loss: 0.307\n",
      "[8,     1] loss: 0.306\n",
      "[9,     1] loss: 0.306\n",
      "[10,     1] loss: 0.305\n",
      "[11,     1] loss: 0.305\n",
      "[12,     1] loss: 0.304\n",
      "[13,     1] loss: 0.304\n",
      "[14,     1] loss: 0.303\n",
      "[15,     1] loss: 0.303\n",
      "[16,     1] loss: 0.302\n",
      "[17,     1] loss: 0.302\n",
      "[18,     1] loss: 0.301\n",
      "[19,     1] loss: 0.301\n",
      "[20,     1] loss: 0.300\n",
      "[21,     1] loss: 0.300\n",
      "[22,     1] loss: 0.300\n",
      "[23,     1] loss: 0.299\n",
      "[24,     1] loss: 0.299\n",
      "[25,     1] loss: 0.298\n",
      "[26,     1] loss: 0.298\n",
      "[27,     1] loss: 0.297\n",
      "[28,     1] loss: 0.297\n",
      "[29,     1] loss: 0.296\n",
      "[30,     1] loss: 0.296\n",
      "[31,     1] loss: 0.296\n",
      "[32,     1] loss: 0.295\n",
      "[33,     1] loss: 0.295\n",
      "[34,     1] loss: 0.294\n",
      "[35,     1] loss: 0.294\n",
      "[36,     1] loss: 0.293\n",
      "[37,     1] loss: 0.293\n",
      "[38,     1] loss: 0.292\n",
      "[39,     1] loss: 0.292\n",
      "[40,     1] loss: 0.291\n",
      "[41,     1] loss: 0.291\n",
      "[42,     1] loss: 0.290\n",
      "[43,     1] loss: 0.289\n",
      "[44,     1] loss: 0.289\n",
      "[45,     1] loss: 0.288\n",
      "[46,     1] loss: 0.288\n",
      "[47,     1] loss: 0.287\n",
      "[48,     1] loss: 0.287\n",
      "[49,     1] loss: 0.286\n",
      "[50,     1] loss: 0.285\n",
      "Finished\n"
     ]
    }
   ],
   "source": [
    "from training import train_model\n",
    "\n",
    "train_model(\n",
    "    color_dir=\"./data/train_color\",\n",
    "    gray_dir=None,\n",
    "    epochs=50,\n",
    "    learning_rate=0.001,\n",
    "    architecture=1,\n",
    "    file_name=\"cnn_new\",\n",
    "    model=None,\n",
    ")"
   ]
  },
  {
   "cell_type": "code",
   "execution_count": null,
   "metadata": {},
   "outputs": [],
   "source": []
  }
 ],
 "metadata": {
  "kernelspec": {
   "display_name": "color",
   "language": "python",
   "name": "python3"
  },
  "language_info": {
   "codemirror_mode": {
    "name": "ipython",
    "version": 3
   },
   "file_extension": ".py",
   "mimetype": "text/x-python",
   "name": "python",
   "nbconvert_exporter": "python",
   "pygments_lexer": "ipython3",
   "version": "3.11.10"
  }
 },
 "nbformat": 4,
 "nbformat_minor": 2
}
